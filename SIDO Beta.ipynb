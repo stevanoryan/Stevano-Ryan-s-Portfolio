{
 "cells": [
  {
   "cell_type": "code",
   "execution_count": 1,
   "metadata": {},
   "outputs": [],
   "source": [
    "import pandas as pd\n",
    "import yfinance as yf "
   ]
  },
  {
   "cell_type": "code",
   "execution_count": 2,
   "metadata": {},
   "outputs": [],
   "source": [
    "stock_symbol = \"SIDO.JK\" \n",
    "market_index_symbol = \"^JKSE\"  \n"
   ]
  },
  {
   "cell_type": "code",
   "execution_count": 3,
   "metadata": {},
   "outputs": [
    {
     "name": "stdout",
     "output_type": "stream",
     "text": [
      "[*********************100%***********************]  1 of 1 completed\n",
      "[*********************100%***********************]  1 of 1 completed\n"
     ]
    }
   ],
   "source": [
    "stock_data = yf.download(stock_symbol, start=\"2023-01-01\", end=\"2023-11-22\")\n",
    "market_data = yf.download(market_index_symbol, start=\"2023-01-01\", end=\"2023-11-22\")\n"
   ]
  },
  {
   "cell_type": "code",
   "execution_count": 4,
   "metadata": {},
   "outputs": [],
   "source": [
    "stock_returns = stock_data['Adj Close'].pct_change().dropna()\n",
    "market_returns = market_data['Adj Close'].pct_change().dropna()\n",
    "data = pd.DataFrame({'Stock Returns': stock_returns, 'Market Returns': market_returns})"
   ]
  },
  {
   "cell_type": "code",
   "execution_count": 5,
   "metadata": {},
   "outputs": [
    {
     "name": "stdout",
     "output_type": "stream",
     "text": [
      "The beta of SIDO.JK relative to ^JKSE is: 0.6815944688561746\n"
     ]
    }
   ],
   "source": [
    "cov_matrix = data.cov()\n",
    "beta = cov_matrix.iloc[0, 1] / cov_matrix.iloc[1, 1]\n",
    "\n",
    "print(f\"The beta of {stock_symbol} relative to {market_index_symbol} is: {beta}\")\n"
   ]
  }
 ],
 "metadata": {
  "kernelspec": {
   "display_name": "Python 3",
   "language": "python",
   "name": "python3"
  },
  "language_info": {
   "codemirror_mode": {
    "name": "ipython",
    "version": 3
   },
   "file_extension": ".py",
   "mimetype": "text/x-python",
   "name": "python",
   "nbconvert_exporter": "python",
   "pygments_lexer": "ipython3",
   "version": "3.11.3"
  }
 },
 "nbformat": 4,
 "nbformat_minor": 2
}
